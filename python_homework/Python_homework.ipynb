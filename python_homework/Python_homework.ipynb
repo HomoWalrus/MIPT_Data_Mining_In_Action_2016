{
 "cells": [
  {
   "cell_type": "markdown",
   "metadata": {},
   "source": [
    "## Python"
   ]
  },
  {
   "cell_type": "code",
   "execution_count": 3,
   "metadata": {
    "collapsed": false
   },
   "outputs": [
    {
     "name": "stdout",
     "output_type": "stream",
     "text": [
      "1\n",
      "2\n",
      "Fizz\n",
      "4\n",
      "Buzz\n",
      "Fizz\n",
      "7\n",
      "8\n",
      "Fizz\n",
      "Buzz\n",
      "11\n",
      "Fizz\n",
      "13\n",
      "14\n",
      "FizzBuzz\n",
      "16\n",
      "17\n",
      "Fizz\n",
      "19\n",
      "Buzz\n",
      "Fizz\n",
      "22\n",
      "23\n",
      "Fizz\n",
      "Buzz\n",
      "26\n",
      "Fizz\n",
      "28\n",
      "29\n",
      "FizzBuzz\n",
      "31\n",
      "32\n",
      "Fizz\n",
      "34\n",
      "Buzz\n",
      "Fizz\n",
      "37\n",
      "38\n",
      "Fizz\n",
      "Buzz\n",
      "41\n",
      "Fizz\n",
      "43\n",
      "44\n",
      "FizzBuzz\n",
      "46\n",
      "47\n",
      "Fizz\n",
      "49\n",
      "Buzz\n",
      "Fizz\n",
      "52\n",
      "53\n",
      "Fizz\n",
      "Buzz\n",
      "56\n",
      "Fizz\n",
      "58\n",
      "59\n",
      "FizzBuzz\n",
      "61\n",
      "62\n",
      "Fizz\n",
      "64\n",
      "Buzz\n",
      "Fizz\n",
      "67\n",
      "68\n",
      "Fizz\n",
      "Buzz\n",
      "71\n",
      "Fizz\n",
      "73\n",
      "74\n",
      "FizzBuzz\n",
      "76\n",
      "77\n",
      "Fizz\n",
      "79\n",
      "Buzz\n",
      "Fizz\n",
      "82\n",
      "83\n",
      "Fizz\n",
      "Buzz\n",
      "86\n",
      "Fizz\n",
      "88\n",
      "89\n",
      "FizzBuzz\n",
      "91\n",
      "92\n",
      "Fizz\n",
      "94\n",
      "Buzz\n",
      "Fizz\n",
      "97\n",
      "98\n",
      "Fizz\n",
      "Buzz\n"
     ]
    }
   ],
   "source": [
    "# FizzBuzz\n",
    "for i in range(1,101):\n",
    "    if i%15==0:\n",
    "        print('FizzBuzz')\n",
    "    elif i%5==0:\n",
    "        print('Buzz')\n",
    "    elif i%3==0:\n",
    "        print('Fizz')\n",
    "    else:\n",
    "        print(i)"
   ]
  },
  {
   "cell_type": "code",
   "execution_count": 4,
   "metadata": {
    "collapsed": false
   },
   "outputs": [
    {
     "data": {
      "text/plain": [
       "354224848179261915075"
      ]
     },
     "execution_count": 4,
     "metadata": {},
     "output_type": "execute_result"
    }
   ],
   "source": [
    "# Fibonacci\n",
    "def fibonacci(a):\n",
    "    res = [0,1]\n",
    "    if a==0:\n",
    "        return 0\n",
    "    for i in range(2,a+1):\n",
    "        res.append(res[i-1]+res[i-2])\n",
    "    return res[-1]\n",
    "fibonacci(100)            "
   ]
  },
  {
   "cell_type": "code",
   "execution_count": 5,
   "metadata": {
    "collapsed": false
   },
   "outputs": [
    {
     "data": {
      "text/plain": [
       "[1, 1, 2, 4, 6, 7, 10, 18, 18, 19]"
      ]
     },
     "execution_count": 5,
     "metadata": {},
     "output_type": "execute_result"
    }
   ],
   "source": [
    "def quicksort(a):\n",
    "    l = []\n",
    "    e = []\n",
    "    h = []\n",
    "    if len(a)>1:\n",
    "        for item in a:\n",
    "            pivot = a[0]\n",
    "            if item<pivot:\n",
    "                l.append(item)\n",
    "            elif item==pivot:\n",
    "                e.append(item)\n",
    "            else:\n",
    "                h.append(item)\n",
    "        return quicksort(l)+e+quicksort(h)\n",
    "    else:\n",
    "        return a\n",
    "    \n",
    "quicksort([4,1,7,18,19,18,10,2,1,6])"
   ]
  },
  {
   "cell_type": "code",
   "execution_count": 6,
   "metadata": {
    "collapsed": false
   },
   "outputs": [
    {
     "data": {
      "text/plain": [
       "[1, 1, 2, 4, 6, 7, 10, 18, 18, 19]"
      ]
     },
     "execution_count": 6,
     "metadata": {},
     "output_type": "execute_result"
    }
   ],
   "source": [
    "# сортировка в одну строчку\n",
    "def quicksort1(a):\n",
    "    #if a == []: \n",
    "    #    return []\n",
    "    #pivot = a[0]\n",
    "    #l = quicksort1([x for x in a[1:] if x < pivot])\n",
    "    #h = quicksort1([x for x in a[1:] if x >= pivot])\n",
    "    return quicksort1([x for x in a[1:] if x < a[0]])+[a[0]]+quicksort1([x for x in a[1:] if x >= a[0]]) if len(a)>1 else a\n",
    "quicksort1([4,1,7,18,19,18,10,2,1,6])"
   ]
  },
  {
   "cell_type": "markdown",
   "metadata": {
    "collapsed": true
   },
   "source": [
    "## Numpy"
   ]
  },
  {
   "cell_type": "code",
   "execution_count": 7,
   "metadata": {
    "collapsed": false
   },
   "outputs": [
    {
     "name": "stdout",
     "output_type": "stream",
     "text": [
      "True linspace execution time = 0.0003466606140136719\n",
      "Quasylinspace execution time = 0.0007612705230712891\n",
      "Qlinspace execution time with list comprehension= 0.0008287429809570312\n"
     ]
    }
   ],
   "source": [
    "# linspace analogue\n",
    "\n",
    "import numpy as np\n",
    "import time \n",
    "\n",
    "def quasylinspace(start, stop, num=50):\n",
    "    res = []\n",
    "    temp = 0\n",
    "    step = (stop-start)/num\n",
    "    for i in range(num):\n",
    "        temp += step\n",
    "        res.append(temp)\n",
    "    return np.array(res)\n",
    "def qlinspace(start, stop, num=50):\n",
    "    temp = 0\n",
    "    return np.array([temp+(stop-start)/num for temp in range(num)])\n",
    "\n",
    "start = time.time()\n",
    "np.linspace(0,50,1000)\n",
    "print('True linspace execution time =',time.time()-start)\n",
    "\n",
    "start = time.time()\n",
    "quasylinspace(0,50,1000)\n",
    "print('Quasylinspace execution time =',time.time()-start)\n",
    "\n",
    "start = time.time()\n",
    "qlinspace(0,50,1000)\n",
    "print('Qlinspace execution time with list comprehension=',time.time()-start)"
   ]
  },
  {
   "cell_type": "code",
   "execution_count": 8,
   "metadata": {
    "collapsed": false
   },
   "outputs": [
    {
     "name": "stdout",
     "output_type": "stream",
     "text": [
      "np.array+np.array time = 0.00010848045349121094\n",
      "list+list time = 0.00013375282287597656\n",
      "np.array-np.array time = 8.630752563476562e-05\n",
      "list-list time = 0.0001246929168701172\n",
      "np.array*np.array time = 8.368492126464844e-05\n",
      "list*list = 0.00015163421630859375\n",
      "np.array^np.array time = 0.00015473365783691406\n",
      "list^list = 0.0002346038818359375\n",
      "np.array%np.array time = 0.0004756450653076172\n",
      "list % list = 0.00024771690368652344\n"
     ]
    }
   ],
   "source": [
    "# comparison of execution times for lists and numpy.ndarray's\n",
    "\n",
    "import numpy as np\n",
    "import time\n",
    "\n",
    "a = np.array([x+5 for x in range(50)])\n",
    "b = [x+5 for x in range(50)]\n",
    "start=time.time()\n",
    "a + a\n",
    "print('np.array+np.array time =',time.time()-start)\n",
    "\n",
    "start=time.time()\n",
    "for i in range(len(b)):\n",
    "    b[i] = b[i]+b[i]\n",
    "print('list+list time =',time.time()-start)\n",
    "\n",
    "start=time.time()\n",
    "a - a\n",
    "print('np.array-np.array time =',time.time()-start)\n",
    "\n",
    "start=time.time()\n",
    "for i in range(len(b)):\n",
    "    b[i] = b[i]-b[i]\n",
    "print('list-list time =',time.time()-start)\n",
    "\n",
    "start=time.time()\n",
    "a * a\n",
    "print('np.array*np.array time =',time.time()-start)\n",
    "\n",
    "start=time.time()\n",
    "for i in range(len(b)):\n",
    "    b[i] = b[i]*b[i]\n",
    "print('list*list =',time.time()-start)\n",
    "\n",
    "start=time.time()\n",
    "a ** b\n",
    "print('np.array^np.array time =',time.time()-start)\n",
    "\n",
    "start=time.time()\n",
    "for i in range(len(b)):\n",
    "    b[i] = np.power(b[i],b[i])\n",
    "print('list^list =',time.time()-start)\n",
    "\n",
    "start=time.time()\n",
    "a % b\n",
    "print('np.array%np.array time =',time.time()-start)\n",
    "\n",
    "start=time.time()\n",
    "for i in range(len(b)):\n",
    "    b[i] = b[i] % b[i]\n",
    "print('list % list =',time.time()-start)"
   ]
  },
  {
   "cell_type": "markdown",
   "metadata": {},
   "source": [
    "## Matplotlib"
   ]
  },
  {
   "cell_type": "code",
   "execution_count": 9,
   "metadata": {
    "collapsed": false
   },
   "outputs": [
    {
     "data": {
      "image/png": "[encoded data removed]",
      "text/plain": [
       "<matplotlib.figure.Figure at 0x7fd09c0be400>"
      ]
     },
     "metadata": {},
     "output_type": "display_data"
    }
   ],
   "source": [
    "import matplotlib.pyplot as plt\n",
    "import matplotlib.patches as mpatches\n",
    "import numpy as np\n",
    "%matplotlib inline\n",
    "\n",
    "arg = np.linspace(0,10,100)\n",
    "func1 = 0.5*arg**3\n",
    "func2 = 5*arg+4.\n",
    "func3 = arg**2+5.*arg+7\n",
    "\n",
    "plt.figure(num=None, figsize=(15, 15))\n",
    "plt.subplot(2,2,1)\n",
    "plt.xlabel('Argument x')\n",
    "plt.ylabel('Functions $f(x)$')\n",
    "plt.title('Very simple functions here: $ax^3,ax^2+bx+c,ax+b$')\n",
    "plt.plot(arg,func1, label='cubic')\n",
    "plt.plot(arg,func2, label='square')\n",
    "plt.plot(arg,func3, label='linear')\n",
    "plt.legend(loc='upper left')\n",
    "\n",
    "plt.subplot(2,2,2)\n",
    "plt.plot(arg,func2,label='square')\n",
    "plt.plot(arg,func3,label='linear')\n",
    "plt.legend(loc='lower right')\n",
    "plt.xlabel('Argument x')\n",
    "plt.ylabel('Functions $f(x)$')\n",
    "plt.title('Same very simple functions here: $ax+b,ax^2+bx+c$')\n",
    "\n",
    "plt.savefig('test.png')"
   ]
  },
  {
   "cell_type": "markdown",
   "metadata": {},
   "source": [
    "## SciPy"
   ]
  },
  {
   "cell_type": "code",
   "execution_count": 10,
   "metadata": {
    "collapsed": false
   },
   "outputs": [
    {
     "name": "stdout",
     "output_type": "stream",
     "text": [
      "Eigenvalues are:\n",
      " [-0.72566541+1.7008703j -0.72566541-1.7008703j -1.10991992+0.j\n",
      "  1.20118507+0.j         0.27866951+0.j       ]\n",
      "Eigenvectors are:\n",
      " [[-0.12386382-0.43760492j -0.12386382+0.43760492j  0.09976665+0.j\n",
      "  -0.24071472+0.j          0.05305397+0.j        ]\n",
      " [-0.05185255+0.136724j   -0.05185255-0.136724j   -0.43506177+0.j\n",
      "  -0.60548695+0.j         -0.24374489+0.j        ]\n",
      " [-0.18014332+0.11493956j -0.18014332-0.11493956j  0.21273153+0.j\n",
      "  -0.54428289+0.j         -0.64006508+0.j        ]\n",
      " [-0.78120811+0.j         -0.78120811-0.j         -0.58238137+0.j\n",
      "  -0.33124724+0.j          0.01529328+0.j        ]\n",
      " [ 0.31156302-0.13695693j  0.31156302+0.13695693j  0.64524809+0.j\n",
      "   0.41167146+0.j          0.72653735+0.j        ]]\n",
      "k is an array of w-s with length 5, so w and v are eigenvalues and eigenvectors for sure\n",
      " [[-0.72566541+1.7008703j -0.72566541-1.7008703j -1.10991992+0.j\n",
      "   1.20118507-0.j         0.27866951+0.j       ]\n",
      " [-0.72566541+1.7008703j -0.72566541-1.7008703j -1.10991992-0.j\n",
      "   1.20118507-0.j         0.27866951-0.j       ]\n",
      " [-0.72566541+1.7008703j -0.72566541-1.7008703j -1.10991992+0.j\n",
      "   1.20118507-0.j         0.27866951-0.j       ]\n",
      " [-0.72566541+1.7008703j -0.72566541-1.7008703j -1.10991992-0.j\n",
      "   1.20118507-0.j         0.27866951+0.j       ]\n",
      " [-0.72566541+1.7008703j -0.72566541-1.7008703j -1.10991992+0.j\n",
      "   1.20118507+0.j         0.27866951+0.j       ]]\n"
     ]
    }
   ],
   "source": [
    "import numpy as np\n",
    "import scipy.stats as sts\n",
    "\n",
    "norm_rv = sts.norm(loc=0,scale=1)\n",
    "data = norm_rv.rvs(size=25)\n",
    "\n",
    "matrix = np.reshape(data,(5,5))\n",
    "w, v = np.linalg.eig(matrix)\n",
    "\n",
    "print('Eigenvalues are:\\n',w)\n",
    "print('Eigenvectors are:\\n',v)\n",
    "\n",
    "v1 = matrix.dot(v)\n",
    "k=v1/v\n",
    "print('k is an array of w-s with length 5, so w and v are eigenvalues and eigenvectors for sure\\n',k)"
   ]
  },
  {
   "cell_type": "code",
   "execution_count": null,
   "metadata": {
    "collapsed": true
   },
   "outputs": [],
   "source": []
  }
 ],
 "metadata": {
  "anaconda-cloud": {},
  "kernelspec": {
   "display_name": "Python [Root]",
   "language": "python",
   "name": "Python [Root]"
  },
  "language_info": {
   "codemirror_mode": {
    "name": "ipython",
    "version": 3
   },
   "file_extension": ".py",
   "mimetype": "text/x-python",
   "name": "python",
   "nbconvert_exporter": "python",
   "pygments_lexer": "ipython3",
   "version": "3.5.2"
  }
 },
 "nbformat": 4,
 "nbformat_minor": 0
}
